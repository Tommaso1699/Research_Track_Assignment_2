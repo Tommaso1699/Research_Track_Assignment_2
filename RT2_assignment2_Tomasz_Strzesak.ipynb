{
 "cells": [
  {
   "cell_type": "code",
   "execution_count": 1,
   "id": "7bdf34c3",
   "metadata": {
    "ExecuteTime": {
     "end_time": "2023-06-02T23:27:08.499484Z",
     "start_time": "2023-06-02T23:27:06.697177Z"
    }
   },
   "outputs": [],
   "source": [
    "#importing modules\n",
    "import rospy\n",
    "import time\n",
    "import math\n",
    "import jupyros as jr\n",
    "import numpy as np\n",
    "import assignment2_research_track_1.msg\n",
    "import actionlib\n",
    "import actionlib.msg\n",
    "import matplotlib.pyplot as plt\n",
    "import tf\n",
    "import ipywidgets as widgets\n",
    "from assignment2_research_track_1.srv import _node_B_goal\n",
    "from geometry_msgs.msg import Pose, Point\n",
    "from geometry_msgs.msg import PoseStamped\n",
    "from assignment2_research_track_1.msg import PlanningAction\n",
    "from nav_msgs.msg import Odometry\n",
    "from IPython.display import display\n",
    "from sensor_msgs.msg import LaserScan\n",
    "from matplotlib.animation import FuncAnimation\n",
    "from nav_msgs.msg import Odometry\n",
    "from tf.transformations import quaternion_matrix\n",
    "from std_srvs.srv import *\n",
    "import sys\n",
    "import signal\n",
    "import assignment2_research_track_1.msg\n",
    "\n",
    "%matplotlib widget"
   ]
  },
  {
   "cell_type": "code",
   "execution_count": 2,
   "id": "7adb6ef1",
   "metadata": {
    "ExecuteTime": {
     "end_time": "2023-06-02T23:27:09.994980Z",
     "start_time": "2023-06-02T23:27:09.656159Z"
    }
   },
   "outputs": [
    {
     "data": {
      "text/plain": [
       "True"
      ]
     },
     "execution_count": 2,
     "metadata": {},
     "output_type": "execute_result"
    }
   ],
   "source": [
    "rospy.init_node('Node_A_1') #starting Node_A_1\n",
    "client = actionlib.SimpleActionClient('/reaching_goal',assignment_2_2022.msg.PlanningAction )#implementing action client\n",
    "client.wait_for_server()"
   ]
  },
  {
   "cell_type": "code",
   "execution_count": 3,
   "id": "537402bf",
   "metadata": {
    "ExecuteTime": {
     "end_time": "2023-06-02T23:27:12.148393Z",
     "start_time": "2023-06-02T23:27:11.946401Z"
    }
   },
   "outputs": [],
   "source": [
    "x = widgets.IntSlider(min=-100, max=100) #insert value for x coordinate\n",
    "y = widgets.IntSlider(min=-100, max=100) #insert value for y coordinate\n",
    "lsr =widgets.FloatText( description='Distance from closest obstacle:', disabled=True)#creating widget\n",
    "out_lsr=widgets.Output() #output widget\n",
    "x_pos=widgets.FloatText(description='Current robot x coordinate :', disabled=True) #creating widget\n",
    "y_pos=widgets.FloatText(description='Current robot y coordinate :', disabled=True) #creating widget\n",
    "check1 = widgets.Checkbox( #check-box for sending goal\n",
    "value=False,\n",
    "description='Send goal',\n",
    "disabled=False\n",
    ")\n",
    "check2 = widgets.Checkbox( #check-box for cancelling goal\n",
    "value=False,\n",
    "description='Cancel goal',\n",
    "disabled=False\n",
    ")\n",
    "confirm_action = widgets.Button(description=\"Confirm action\") #button for confirming action\n",
    "out = widgets.Output() #widget output\n",
    "menu = widgets.VBox([check1, check2, confirm_action]) #vbox for widgets"
   ]
  },
  {
   "cell_type": "code",
   "execution_count": 4,
   "id": "eb95cdc7",
   "metadata": {
    "ExecuteTime": {
     "end_time": "2023-06-02T23:27:14.040315Z",
     "start_time": "2023-06-02T23:27:13.984425Z"
    }
   },
   "outputs": [
    {
     "name": "stdout",
     "output_type": "stream",
     "text": [
      "Enter x position:\n"
     ]
    },
    {
     "data": {
      "application/vnd.jupyter.widget-view+json": {
       "model_id": "c69e50e5c51545fdaa5b8b8f16564983",
       "version_major": 2,
       "version_minor": 0
      },
      "text/plain": [
       "IntSlider(value=0, min=-100)"
      ]
     },
     "metadata": {},
     "output_type": "display_data"
    },
    {
     "name": "stdout",
     "output_type": "stream",
     "text": [
      "Enter y position:\n"
     ]
    },
    {
     "data": {
      "application/vnd.jupyter.widget-view+json": {
       "model_id": "fc691c11299a44e6b4b81423953de076",
       "version_major": 2,
       "version_minor": 0
      },
      "text/plain": [
       "IntSlider(value=0, min=-100)"
      ]
     },
     "metadata": {},
     "output_type": "display_data"
    },
    {
     "data": {
      "application/vnd.jupyter.widget-view+json": {
       "model_id": "95ddd5acadf0407eaaaf82b873b20699",
       "version_major": 2,
       "version_minor": 0
      },
      "text/plain": [
       "VBox(children=(Checkbox(value=False, description='Send goal'), Checkbox(value=False, description='Cancel goal'…"
      ]
     },
     "metadata": {},
     "output_type": "display_data"
    },
    {
     "data": {
      "application/vnd.jupyter.widget-view+json": {
       "model_id": "118f6679d1d448ccbbbda21be41412a5",
       "version_major": 2,
       "version_minor": 0
      },
      "text/plain": [
       "Output()"
      ]
     },
     "metadata": {},
     "output_type": "display_data"
    }
   ],
   "source": [
    "global client, status\n",
    "\n",
    "def on_confirm_clicked(confirm_action): #if button is clicked\n",
    "    with out:\n",
    "        if check1.value==True and check2.value==False:\n",
    "            Position()\n",
    "        if check2.value==True and check1.value==False:\n",
    "            Cancel()\n",
    "confirm_action.on_click(on_confirm_clicked)\n",
    "\n",
    "def Position(): #sending coordinates to robot\n",
    "    global goal_x, goal_y\n",
    "    goal_x = float(x.value)\n",
    "    goal_y = float(y.value)\n",
    "    goal = assignment2_research_track_1.msg.PlanningGoal()\n",
    "    status=client.get_state()\n",
    "    if not (status==actionlib.GoalStatus.ACTIVE):\n",
    "        goal.target_pose.pose.position.x = goal_x\n",
    "        goal.target_pose.pose.position.y = goal_y\n",
    "        client.send_goal(goal)\n",
    "        print(\"Desired position sent\")\n",
    "\n",
    "\n",
    "def Cancel(): #cancelling movement of robot\n",
    "    status = client.get_state()\n",
    "    if status == actionlib.GoalStatus.ACTIVE:\n",
    "        client.cancel_goal()\n",
    "        print(\"Canceling movement of robot\")\n",
    "print(\"Enter x position:\") #enter x position\n",
    "display(x) #display slider\n",
    "print(\"Enter y position:\")#enter y position\n",
    "display(y) #display slider\n",
    "display(menu,out) #display widgets"
   ]
  },
  {
   "cell_type": "code",
   "execution_count": 5,
   "id": "1697df8d",
   "metadata": {
    "ExecuteTime": {
     "end_time": "2023-06-02T23:31:20.579572Z",
     "start_time": "2023-06-02T23:31:20.564696Z"
    }
   },
   "outputs": [],
   "source": [
    "global goal_x, goal_y, client, status #global variables\n",
    "class Plot: #class Plot\n",
    "    def __init__(self): #init function\n",
    "        self.fig, (self.plot1, self.plot2) = plt.subplots(1,2, figsize=(10,4)) #creating subplots\n",
    "        self.trajectory, = self.plot1.plot([], [], markersize='3', label='Trajectory') #creating plot\n",
    "        self.plot1.plot(goal_x, goal_y, marker='x', color='blue', markersize='8', label='Current goal')#creating plot\n",
    "        self.plot1.plot(goal_x, goal_y, marker='v', color='green', markersize='8', label='Reached goals')#creating plot\n",
    "        self.plot1.plot(goal_x, goal_y, marker='o', color='red', markersize='8', label='Canceled goals')#creating plot\n",
    "        self.x = [] #empty lists\n",
    "        self.y = [] #empty lists\n",
    "        self.reached_goal = 0 #counter for reached goals\n",
    "        self.canceled_goal = 0 #counter for canceled goals\n",
    "        self.if_reached=False #checking if goal is reached\n",
    "        self.if_canceled=False #checking if goal is canceled\n",
    "        \n",
    "    def plot_initialize(self): #initializing plot\n",
    "        self.plot1.set_xlim(-20, 20)\n",
    "        self.plot1.set_ylim(-20, 20)\n",
    "        self.plot2.set_ylim(0, 10)\n",
    "        return self.trajectory\n",
    "    \n",
    "    def Publish(self, data): #publishing data to lists\n",
    "        self.x.append(data.pose.pose.position.x)\n",
    "        self.y.append(data.pose.pose.position.y)\n",
    "        x_pos.value=data.pose.pose.position.x #getting current position on x axis\n",
    "        y_pos.value=data.pose.pose.position.y #getting current position on y axis\n",
    "    \n",
    "    def update(self, frame): #updating plots\n",
    "        self.trajectory.set_data(self.x, self.y)\n",
    "        status=client.get_state()\n",
    "        if status==3 and not(self.if_reached): #if goal is reached\n",
    "            self.plot1.plot(goal_x, goal_y, marker='v', color='green', markersize='8', label='Reached goals')\n",
    "            self.reached_goal += 1\n",
    "            self.plot2.bar(['reached', 'canceled'], [self.reached_goal, self.canceled_goal], color = 'orange')\n",
    "            self.if_reached=True\n",
    "        elif status==2 and not(self.if_canceled): #if goal is canceled\n",
    "            self.plot1.plot(goal_x, goal_y, marker='o', color='red', markersize='8', label='Canceled goals')\n",
    "            self.canceled_goal += 1\n",
    "            self.plot2.bar(['reached', 'canceled'], [self.reached_goal, self.canceled_goal], color = 'orange')\n",
    "            self.if_canceled=True\n",
    "        elif (not(status==2) and self.if_canceled): #if goal is canceled\n",
    "            self.if_canceled=False\n",
    "        elif (not(status==3) and self.if_reached): #if goal is reached\n",
    "            self.if_reached=False \n",
    "        elif (not(status==3) and not(status==2)): #if robot is in movement\n",
    "            self.plot1.plot(goal_x, goal_y, marker='x', color='blue', markersize='8', label='Current goal')    \n",
    "        self.plot2.bar(['reached', 'canceled'], [self.reached_goal, self.canceled_goal], color = 'orange')\n",
    "        return self.trajectory"
   ]
  },
  {
   "cell_type": "code",
   "execution_count": 6,
   "id": "3973f4b6",
   "metadata": {
    "ExecuteTime": {
     "end_time": "2023-06-02T23:31:24.080630Z",
     "start_time": "2023-06-02T23:31:23.307487Z"
    }
   },
   "outputs": [
    {
     "data": {
      "application/vnd.jupyter.widget-view+json": {
       "model_id": "dbe84ce71e3848909f4ff42197d8c7fa",
       "version_major": 2,
       "version_minor": 0
      },
      "text/plain": [
       "Canvas(toolbar=Toolbar(toolitems=[('Home', 'Reset original view', 'home', 'home'), ('Back', 'Back to previous …"
      ]
     },
     "metadata": {},
     "output_type": "display_data"
    }
   ],
   "source": [
    "vis = Plot()#creating object\n",
    "vis.plot1.set_title('Robot trajectory')#setting title\n",
    "vis.plot1.set_xlabel('X coordinate')#setting label\n",
    "vis.plot1.set_ylabel('Y coordinate')#setting label\n",
    "vis.plot1.legend(bbox_to_anchor=(1.0, 1.0), loc='lower left')#creating legend\n",
    "plt.tight_layout() #adjusting subplots\n",
    "vis.plot1.grid() #creating grid\n",
    "vis.plot2.set_title('Goals') #setting title\n",
    "vis.plot2.set_xlabel('Status of goal') #setting label\n",
    "vis.plot2.set_ylabel('Amount') #setting label\n",
    "subscrib = rospy.Subscriber('/odom', Odometry, vis.Publish) #subscribing to topic\n",
    "time.sleep(0.5) #delay\n",
    "ani = FuncAnimation(vis.fig, vis.update, init_func=vis.plot_initialize) #drawing function\n",
    "plt.show(block=True) #showing plot\n"
   ]
  },
  {
   "cell_type": "code",
   "execution_count": 7,
   "id": "013e5afc",
   "metadata": {
    "ExecuteTime": {
     "end_time": "2023-06-02T23:31:25.446833Z",
     "start_time": "2023-06-02T23:31:25.417843Z"
    }
   },
   "outputs": [
    {
     "data": {
      "application/vnd.jupyter.widget-view+json": {
       "model_id": "b2714351e754468aa0da61d14d57d2a4",
       "version_major": 2,
       "version_minor": 0
      },
      "text/plain": [
       "FloatText(value=1.2603452485296789, description='Current robot x coordinate :', disabled=True)"
      ]
     },
     "metadata": {},
     "output_type": "display_data"
    },
    {
     "data": {
      "application/vnd.jupyter.widget-view+json": {
       "model_id": "da9837f17b7e487d8eb7c998f4f816e3",
       "version_major": 2,
       "version_minor": 0
      },
      "text/plain": [
       "FloatText(value=1.708498461286743, description='Current robot y coordinate :', disabled=True)"
      ]
     },
     "metadata": {},
     "output_type": "display_data"
    }
   ],
   "source": [
    "display(x_pos) #displaying current x position\n",
    "display(y_pos) #displaying current x position"
   ]
  },
  {
   "cell_type": "code",
   "execution_count": 8,
   "id": "0529cf72",
   "metadata": {
    "ExecuteTime": {
     "end_time": "2023-06-02T23:31:27.050427Z",
     "start_time": "2023-06-02T23:31:26.469067Z"
    }
   },
   "outputs": [
    {
     "data": {
      "application/vnd.jupyter.widget-view+json": {
       "model_id": "c44bb0b4b98f405fb1ef540e95d16b5d",
       "version_major": 2,
       "version_minor": 0
      },
      "text/plain": [
       "FloatText(value=2.0389363765716553, description='Distance from closest obstacle:', disabled=True)"
      ]
     },
     "metadata": {},
     "output_type": "display_data"
    },
    {
     "data": {
      "application/vnd.jupyter.widget-view+json": {
       "model_id": "af99ccc3842c45e187d5e4dcf2dd6eab",
       "version_major": 2,
       "version_minor": 0
      },
      "text/plain": [
       "Output()"
      ]
     },
     "metadata": {},
     "output_type": "display_data"
    }
   ],
   "source": [
    "global min_dist\n",
    "def laser(scan): #Finding closest obstacle using laser\n",
    "    min_dist = scan.range_max\n",
    "    for i in scan.ranges: #selecting the closest obstacle using simple algorithm\n",
    "        if i < min_dist:\n",
    "            min_dist = i       \n",
    "    lsr.value = min_dist\n",
    "jr.subscribe('/scan', LaserScan, laser) #subscribing to topic\n",
    "time.sleep(0.5) #delay\n",
    "display(lsr, out_lsr) #displaying value"
   ]
  }
 ],
 "metadata": {
  "kernelspec": {
   "display_name": "Python 3 (ipykernel)",
   "language": "python",
   "name": "python3"
  },
  "language_info": {
   "codemirror_mode": {
    "name": "ipython",
    "version": 3
   },
   "file_extension": ".py",
   "mimetype": "text/x-python",
   "name": "python",
   "nbconvert_exporter": "python",
   "pygments_lexer": "ipython3",
   "version": "3.8.5"
  },
  "toc": {
   "base_numbering": 1,
   "nav_menu": {},
   "number_sections": true,
   "sideBar": true,
   "skip_h1_title": false,
   "title_cell": "Table of Contents",
   "title_sidebar": "Contents",
   "toc_cell": false,
   "toc_position": {},
   "toc_section_display": true,
   "toc_window_display": false
  },
  "varInspector": {
   "cols": {
    "lenName": 16,
    "lenType": 16,
    "lenVar": 40
   },
   "kernels_config": {
    "python": {
     "delete_cmd_postfix": "",
     "delete_cmd_prefix": "del ",
     "library": "var_list.py",
     "varRefreshCmd": "print(var_dic_list())"
    },
    "r": {
     "delete_cmd_postfix": ") ",
     "delete_cmd_prefix": "rm(",
     "library": "var_list.r",
     "varRefreshCmd": "cat(var_dic_list()) "
    }
   },
   "types_to_exclude": [
    "module",
    "function",
    "builtin_function_or_method",
    "instance",
    "_Feature"
   ],
   "window_display": false
  }
 },
 "nbformat": 4,
 "nbformat_minor": 5
}
